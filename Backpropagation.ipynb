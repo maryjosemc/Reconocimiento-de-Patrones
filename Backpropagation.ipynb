{
 "cells": [
  {
   "cell_type": "markdown",
   "metadata": {},
   "source": [
    "# Práctica Backregresor"
   ]
  },
  {
   "cell_type": "markdown",
   "metadata": {},
   "source": [
    "### Buscamos entrenar la siguiente red\n",
    "![](red.png)"
   ]
  },
  {
   "cell_type": "code",
   "execution_count": 1,
   "metadata": {},
   "outputs": [],
   "source": [
    "#Declaramos los nodos e importamos librerías\n",
    "import math \n",
    "#aristas=[a,  b,  c,  d,  e,  f]\n",
    "aristas=[0.1,0.3,0.5,0.2,0.2,0.1]\n",
    "objetivo = 1.0\n",
    "errores= [0.0,0.0,0.0]\n",
    "error = 0.0\n",
    "ent=0.0\n",
    "entradaFijaA = 0.1\n",
    "entradaFijaB = 0.7\n",
    "entradas = [0.0,0.0,0.0]\n",
    "salidas = [0.0,0.0,0.0]\n",
    "sal=0.0\n",
    "nuevopeso= 0.0\n",
    "nodos = ['A','B','C','D','E','F']"
   ]
  },
  {
   "cell_type": "code",
   "execution_count": 2,
   "metadata": {},
   "outputs": [],
   "source": [
    "#Funcion para calcular entradas\n",
    "def func_entrada(entrada1,camino1,entrada2,camino2):\n",
    "    ent = (entrada1*camino1) + (entrada2*camino2)\n",
    "    return ent"
   ]
  },
  {
   "cell_type": "code",
   "execution_count": 3,
   "metadata": {},
   "outputs": [],
   "source": [
    "#Funcion para calcular salidas\n",
    "def func_salida(entrada):\n",
    "    sal = 1/(1+ math.exp(-1*entrada))\n",
    "    return sal"
   ]
  },
  {
   "cell_type": "code",
   "execution_count": 4,
   "metadata": {},
   "outputs": [],
   "source": [
    "#Función para calcular errores\n",
    "def func_error(error,salida):\n",
    "    error= (error*salida)*(1-salida)*(salida)\n",
    "    return error"
   ]
  },
  {
   "cell_type": "code",
   "execution_count": 5,
   "metadata": {},
   "outputs": [],
   "source": [
    "#Función para calcular nuevos pesos\n",
    "def func_pesosnuevos(peso,error,entrada):\n",
    "    nuevopeso = peso + (error*entrada)\n",
    "    return nuevopeso"
   ]
  },
  {
   "cell_type": "code",
   "execution_count": 6,
   "metadata": {},
   "outputs": [],
   "source": [
    "#Función para imprimir\n",
    "def func_imprime(nodos,entradas,salidas):\n",
    "    print(\"Las entradas y salidas son:\\n\")\n",
    "    for i in [0,1,2]:\n",
    "        print (\"Entrada de\", nodos[i], \": \", entradas[i],\"\\t|Salida de \", nodos[i], \": \", salidas[i],\"\\n\")\n",
    "         \n",
    "    "
   ]
  },
  {
   "cell_type": "code",
   "execution_count": 7,
   "metadata": {},
   "outputs": [],
   "source": [
    "#calculamos entrada y salida de A\n",
    "entradas[0] = func_entrada(entradaFijaA,aristas[0],entradaFijaB,aristas[2])\n",
    "salidas[0] = func_salida(entradas[0])\n",
    "#Calculamos entrada y salida de b\n",
    "entradas[1] = func_entrada(entradaFijaA,aristas[1],entradaFijaB,aristas[3])\n",
    "salidas[1] = func_salida(entradas[1])\n",
    "#calculamos entrada y salida de c\n",
    "entradas[2] = func_entrada(aristas[4],salidas[0],aristas[5],salidas[1])\n",
    "salidas[2] = func_salida(entradas[2])"
   ]
  },
  {
   "cell_type": "code",
   "execution_count": 9,
   "metadata": {},
   "outputs": [
    {
     "name": "stdout",
     "output_type": "stream",
     "text": [
      "Las entradas y salidas son:\n",
      "\n",
      "Entrada de A :  0.36 \t|Salida de  A :  0.5890404340586651 \n",
      "\n",
      "Entrada de B :  0.16999999999999998 \t|Salida de  B :  0.542397940774351 \n",
      "\n",
      "Entrada de C :  0.17204788088916814 \t|Salida de  C :  0.5429061854494511 \n",
      "\n"
     ]
    }
   ],
   "source": [
    "#Imprimimos entradas y salidas\n",
    "func_imprime(nodos,entradas,salidas)"
   ]
  },
  {
   "cell_type": "code",
   "execution_count": 10,
   "metadata": {
    "scrolled": true
   },
   "outputs": [
    {
     "name": "stdout",
     "output_type": "stream",
     "text": [
      "El error de C es:\n",
      " 0.13472708824223809\n"
     ]
    }
   ],
   "source": [
    "#Calculamos errores de salida c \n",
    "errores[2]= func_error(objetivo,salidas[2])\n",
    "print(\"El error de C es:\\n\", errores[2])"
   ]
  },
  {
   "cell_type": "code",
   "execution_count": 11,
   "metadata": {},
   "outputs": [],
   "source": [
    "#Calculamos nuevos pesos de salida de A y B\n",
    "salidas[0] = salidas[0] + (errores[2]*salidas[0])\n",
    "salidas[1] = salidas[1] + (errores[2]*salidas[1])"
   ]
  },
  {
   "cell_type": "markdown",
   "metadata": {},
   "source": [
    "### Calculamos el error"
   ]
  },
  {
   "cell_type": "code",
   "execution_count": 12,
   "metadata": {},
   "outputs": [
    {
     "name": "stdout",
     "output_type": "stream",
     "text": [
      "El error total es:  0.45709381455054887\n"
     ]
    }
   ],
   "source": [
    "error = objetivo - salidas[2]\n",
    "print(\"El error total es: \",error)"
   ]
  },
  {
   "cell_type": "code",
   "execution_count": 13,
   "metadata": {},
   "outputs": [],
   "source": [
    "#Calculamos errores de capas ocultas\n",
    "errores[0]= func_error(errores[2],salidas[0])\n",
    "errores[1] = func_error(errores[2],salidas[1])"
   ]
  },
  {
   "cell_type": "code",
   "execution_count": 14,
   "metadata": {},
   "outputs": [
    {
     "name": "stdout",
     "output_type": "stream",
     "text": [
      "Los nuevos valores son: \n",
      "\n",
      " a=  0.10199591630828429 \n",
      " b=  0.3137371928214493 \n",
      " c=  0.5019959163082843 \n",
      " d=  0.21373719282144932 \n",
      " e=  0.2 \n",
      " f=  0.1\n"
     ]
    }
   ],
   "source": [
    "#calculamos nuevos pesos de entradas\n",
    "print(\"Los nuevos valores son: \\n\")\n",
    "aristas[0] = func_pesosnuevos(aristas[0],errores[0],entradaFijaA)\n",
    "aristas[1] = func_pesosnuevos(aristas[1],errores[1],entradaFijaB)\n",
    "aristas[2] = func_pesosnuevos(aristas[2],errores[0],entradaFijaA)\n",
    "aristas[3] = func_pesosnuevos(aristas[3],errores[1],entradaFijaB)        \n",
    "print(\" a= \",aristas[0],\"\\n\",\"b= \",aristas[1],\"\\n\",\"c= \",aristas[2],\"\\n\",\"d= \",aristas[3],\"\\n\",\"e= \",aristas[4],\"\\n\",\"f= \",aristas[5])"
   ]
  },
  {
   "cell_type": "code",
   "execution_count": 15,
   "metadata": {},
   "outputs": [],
   "source": [
    "#calculamos entrada y salida de A\n",
    "entradas[0] = func_entrada(entradaFijaA,aristas[0],entradaFijaB,aristas[2])\n",
    "salidas[0] = func_salida(entradas[0])\n",
    "#Calculamos entrada y salida de b\n",
    "entradas[1] = func_entrada(entradaFijaA,aristas[1],entradaFijaB,aristas[3])\n",
    "salidas[1] = func_salida(entradas[1])\n",
    "#calculamos entrada y salida de c\n",
    "entradas[2] = func_entrada(aristas[4],salidas[0],aristas[5],salidas[1])\n",
    "salidas[2] = func_salida(entradas[2])"
   ]
  },
  {
   "cell_type": "code",
   "execution_count": 16,
   "metadata": {},
   "outputs": [
    {
     "name": "stdout",
     "output_type": "stream",
     "text": [
      "Nuevas entradas y salidas: \n",
      "\n",
      "Las entradas y salidas son:\n",
      "\n",
      "Entrada de A :  0.3615967330466275 \t|Salida de  A :  0.5894269030752619 \n",
      "\n",
      "Entrada de B :  0.18098975425715946 \t|Salida de  B :  0.545124326536999 \n",
      "\n",
      "Entrada de C :  0.17239781326875228 \t|Salida de  C :  0.5429930230348814 \n",
      "\n"
     ]
    }
   ],
   "source": [
    "#Imprimimos entradas y salidas\n",
    "print(\"Nuevas entradas y salidas: \\n\")\n",
    "func_imprime(nodos,entradas,salidas)"
   ]
  },
  {
   "cell_type": "markdown",
   "metadata": {},
   "source": [
    "### Calculamos el error nuevamente"
   ]
  },
  {
   "cell_type": "code",
   "execution_count": 17,
   "metadata": {},
   "outputs": [
    {
     "name": "stdout",
     "output_type": "stream",
     "text": [
      "0.4570069769651186\n"
     ]
    }
   ],
   "source": [
    "error = objetivo - salidas[2]\n",
    "print(error)"
   ]
  },
  {
   "cell_type": "markdown",
   "metadata": {},
   "source": [
    "####Como podemos ver el error ha disminuido y ahora la red nos queda de la siguiente forma:\n",
    "![](redfinal.png)"
   ]
  },
  {
   "cell_type": "code",
   "execution_count": null,
   "metadata": {},
   "outputs": [],
   "source": []
  }
 ],
 "metadata": {
  "kernelspec": {
   "display_name": "Python 3",
   "language": "python",
   "name": "python3"
  },
  "language_info": {
   "codemirror_mode": {
    "name": "ipython",
    "version": 3
   },
   "file_extension": ".py",
   "mimetype": "text/x-python",
   "name": "python",
   "nbconvert_exporter": "python",
   "pygments_lexer": "ipython3",
   "version": "3.7.4"
  }
 },
 "nbformat": 4,
 "nbformat_minor": 2
}
